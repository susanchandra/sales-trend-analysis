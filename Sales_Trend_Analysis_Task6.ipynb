{
 "cells": [
  {
   "cell_type": "code",
   "execution_count": 1,
   "id": "30e281fe-9531-44de-9d27-9da8a74acf31",
   "metadata": {},
   "outputs": [
    {
     "name": "stdout",
     "output_type": "stream",
     "text": [
      "✅ SQLite environment set up successfully!\n"
     ]
    }
   ],
   "source": [
    "# Step 1: Import required libraries\n",
    "import sqlite3\n",
    "import pandas as pd\n",
    "\n",
    "# Create a connection to a new SQLite in-memory database\n",
    "conn = sqlite3.connect(':memory:')\n",
    "cursor = conn.cursor()\n",
    "print(\"✅ SQLite environment set up successfully!\")\n"
   ]
  },
  {
   "cell_type": "code",
   "execution_count": 3,
   "id": "3a7b2eef-8806-49c0-9721-2d71dcb85fbe",
   "metadata": {},
   "outputs": [
    {
     "name": "stdout",
     "output_type": "stream",
     "text": [
      "📊 Preview of the dataset:\n"
     ]
    },
    {
     "data": {
      "text/html": [
       "<div>\n",
       "<style scoped>\n",
       "    .dataframe tbody tr th:only-of-type {\n",
       "        vertical-align: middle;\n",
       "    }\n",
       "\n",
       "    .dataframe tbody tr th {\n",
       "        vertical-align: top;\n",
       "    }\n",
       "\n",
       "    .dataframe thead th {\n",
       "        text-align: right;\n",
       "    }\n",
       "</style>\n",
       "<table border=\"1\" class=\"dataframe\">\n",
       "  <thead>\n",
       "    <tr style=\"text-align: right;\">\n",
       "      <th></th>\n",
       "      <th>order_id</th>\n",
       "      <th>order_date</th>\n",
       "      <th>amount</th>\n",
       "      <th>product_id</th>\n",
       "    </tr>\n",
       "  </thead>\n",
       "  <tbody>\n",
       "    <tr>\n",
       "      <th>0</th>\n",
       "      <td>1001</td>\n",
       "      <td>2023-01-15</td>\n",
       "      <td>250.75</td>\n",
       "      <td>501</td>\n",
       "    </tr>\n",
       "    <tr>\n",
       "      <th>1</th>\n",
       "      <td>1002</td>\n",
       "      <td>2023-01-17</td>\n",
       "      <td>180.00</td>\n",
       "      <td>503</td>\n",
       "    </tr>\n",
       "    <tr>\n",
       "      <th>2</th>\n",
       "      <td>1003</td>\n",
       "      <td>2023-02-02</td>\n",
       "      <td>90.50</td>\n",
       "      <td>502</td>\n",
       "    </tr>\n",
       "    <tr>\n",
       "      <th>3</th>\n",
       "      <td>1004</td>\n",
       "      <td>2023-02-20</td>\n",
       "      <td>120.00</td>\n",
       "      <td>504</td>\n",
       "    </tr>\n",
       "    <tr>\n",
       "      <th>4</th>\n",
       "      <td>1005</td>\n",
       "      <td>2023-03-05</td>\n",
       "      <td>300.00</td>\n",
       "      <td>505</td>\n",
       "    </tr>\n",
       "    <tr>\n",
       "      <th>5</th>\n",
       "      <td>1006</td>\n",
       "      <td>2023-03-15</td>\n",
       "      <td>145.25</td>\n",
       "      <td>506</td>\n",
       "    </tr>\n",
       "    <tr>\n",
       "      <th>6</th>\n",
       "      <td>1007</td>\n",
       "      <td>2023-03-30</td>\n",
       "      <td>210.00</td>\n",
       "      <td>507</td>\n",
       "    </tr>\n",
       "    <tr>\n",
       "      <th>7</th>\n",
       "      <td>1008</td>\n",
       "      <td>2023-04-10</td>\n",
       "      <td>400.00</td>\n",
       "      <td>508</td>\n",
       "    </tr>\n",
       "  </tbody>\n",
       "</table>\n",
       "</div>"
      ],
      "text/plain": [
       "   order_id  order_date  amount  product_id\n",
       "0      1001  2023-01-15  250.75         501\n",
       "1      1002  2023-01-17  180.00         503\n",
       "2      1003  2023-02-02   90.50         502\n",
       "3      1004  2023-02-20  120.00         504\n",
       "4      1005  2023-03-05  300.00         505\n",
       "5      1006  2023-03-15  145.25         506\n",
       "6      1007  2023-03-30  210.00         507\n",
       "7      1008  2023-04-10  400.00         508"
      ]
     },
     "metadata": {},
     "output_type": "display_data"
    },
    {
     "name": "stdout",
     "output_type": "stream",
     "text": [
      "✅ Data loaded into SQLite table named 'orders'\n"
     ]
    }
   ],
   "source": [
    "# Step 2: Load CSV from local path and insert into SQLite\n",
    "\n",
    "import pandas as pd\n",
    "\n",
    "# Load CSV from your local path\n",
    "df = pd.read_csv(r\"C:\\Users\\susan\\Downloads\\online_sales_orders.csv\")\n",
    "\n",
    "# Show a quick preview\n",
    "print(\"📊 Preview of the dataset:\")\n",
    "display(df)\n",
    "\n",
    "# Insert into SQLite (reuse the conn from earlier cell)\n",
    "df.to_sql('orders', conn, index=False, if_exists='replace')\n",
    "print(\"✅ Data loaded into SQLite table named 'orders'\")\n"
   ]
  },
  {
   "cell_type": "code",
   "execution_count": 4,
   "id": "1bb9eab6-c765-4c31-b72b-f5352a4a6be6",
   "metadata": {},
   "outputs": [
    {
     "name": "stdout",
     "output_type": "stream",
     "text": [
      "📈 Monthly Revenue and Order Volume:\n"
     ]
    },
    {
     "data": {
      "text/html": [
       "<div>\n",
       "<style scoped>\n",
       "    .dataframe tbody tr th:only-of-type {\n",
       "        vertical-align: middle;\n",
       "    }\n",
       "\n",
       "    .dataframe tbody tr th {\n",
       "        vertical-align: top;\n",
       "    }\n",
       "\n",
       "    .dataframe thead th {\n",
       "        text-align: right;\n",
       "    }\n",
       "</style>\n",
       "<table border=\"1\" class=\"dataframe\">\n",
       "  <thead>\n",
       "    <tr style=\"text-align: right;\">\n",
       "      <th></th>\n",
       "      <th>month</th>\n",
       "      <th>total_revenue</th>\n",
       "      <th>total_orders</th>\n",
       "    </tr>\n",
       "  </thead>\n",
       "  <tbody>\n",
       "    <tr>\n",
       "      <th>0</th>\n",
       "      <td>2023-01</td>\n",
       "      <td>430.75</td>\n",
       "      <td>2</td>\n",
       "    </tr>\n",
       "    <tr>\n",
       "      <th>1</th>\n",
       "      <td>2023-02</td>\n",
       "      <td>210.50</td>\n",
       "      <td>2</td>\n",
       "    </tr>\n",
       "    <tr>\n",
       "      <th>2</th>\n",
       "      <td>2023-03</td>\n",
       "      <td>655.25</td>\n",
       "      <td>3</td>\n",
       "    </tr>\n",
       "    <tr>\n",
       "      <th>3</th>\n",
       "      <td>2023-04</td>\n",
       "      <td>400.00</td>\n",
       "      <td>1</td>\n",
       "    </tr>\n",
       "  </tbody>\n",
       "</table>\n",
       "</div>"
      ],
      "text/plain": [
       "     month  total_revenue  total_orders\n",
       "0  2023-01         430.75             2\n",
       "1  2023-02         210.50             2\n",
       "2  2023-03         655.25             3\n",
       "3  2023-04         400.00             1"
      ]
     },
     "metadata": {},
     "output_type": "display_data"
    }
   ],
   "source": [
    "# Step 3: SQL query to analyze monthly revenue and order volume\n",
    "\n",
    "query = \"\"\"\n",
    "SELECT \n",
    "    STRFTIME('%Y-%m', order_date) AS month,\n",
    "    SUM(amount) AS total_revenue,\n",
    "    COUNT(DISTINCT order_id) AS total_orders\n",
    "FROM orders\n",
    "GROUP BY month\n",
    "ORDER BY month;\n",
    "\"\"\"\n",
    "\n",
    "# Execute query\n",
    "result_df = pd.read_sql_query(query, conn)\n",
    "\n",
    "# Show the result\n",
    "print(\"📈 Monthly Revenue and Order Volume:\")\n",
    "display(result_df)\n"
   ]
  },
  {
   "cell_type": "code",
   "execution_count": 5,
   "id": "f83a0aa1-3fbe-40ec-9b40-4be6d951abd4",
   "metadata": {},
   "outputs": [
    {
     "data": {
      "image/png": "[encoded data removed]",
      "text/plain": [
       "<Figure size 1200x600 with 1 Axes>"
      ]
     },
     "metadata": {},
     "output_type": "display_data"
    }
   ],
   "source": [
    "# Step 4: Plot trends using matplotlib\n",
    "\n",
    "import matplotlib.pyplot as plt\n",
    "\n",
    "# Set figure size\n",
    "plt.figure(figsize=(12, 6))\n",
    "\n",
    "# Plot revenue\n",
    "plt.plot(result_df['month'], result_df['total_revenue'], marker='o', label='Revenue ₹')\n",
    "\n",
    "# Plot order volume\n",
    "plt.plot(result_df['month'], result_df['total_orders'], marker='s', label='Order Volume')\n",
    "\n",
    "# Labels and title\n",
    "plt.title('Monthly Sales Revenue and Order Volume')\n",
    "plt.xlabel('Month')\n",
    "plt.ylabel('Value')\n",
    "plt.grid(True)\n",
    "plt.legend()\n",
    "plt.xticks(rotation=45)\n",
    "plt.tight_layout()\n",
    "\n",
    "plt.show()\n"
   ]
  },
  {
   "cell_type": "code",
   "execution_count": 6,
   "id": "87041f85-8ae6-4abe-b45c-7893f4ee3a15",
   "metadata": {},
   "outputs": [
    {
     "name": "stdout",
     "output_type": "stream",
     "text": [
      "🏆 Top 3 Months by Revenue:\n"
     ]
    },
    {
     "data": {
      "text/html": [
       "<div>\n",
       "<style scoped>\n",
       "    .dataframe tbody tr th:only-of-type {\n",
       "        vertical-align: middle;\n",
       "    }\n",
       "\n",
       "    .dataframe tbody tr th {\n",
       "        vertical-align: top;\n",
       "    }\n",
       "\n",
       "    .dataframe thead th {\n",
       "        text-align: right;\n",
       "    }\n",
       "</style>\n",
       "<table border=\"1\" class=\"dataframe\">\n",
       "  <thead>\n",
       "    <tr style=\"text-align: right;\">\n",
       "      <th></th>\n",
       "      <th>month</th>\n",
       "      <th>total_revenue</th>\n",
       "      <th>total_orders</th>\n",
       "    </tr>\n",
       "  </thead>\n",
       "  <tbody>\n",
       "    <tr>\n",
       "      <th>2</th>\n",
       "      <td>2023-03</td>\n",
       "      <td>655.25</td>\n",
       "      <td>3</td>\n",
       "    </tr>\n",
       "    <tr>\n",
       "      <th>0</th>\n",
       "      <td>2023-01</td>\n",
       "      <td>430.75</td>\n",
       "      <td>2</td>\n",
       "    </tr>\n",
       "    <tr>\n",
       "      <th>3</th>\n",
       "      <td>2023-04</td>\n",
       "      <td>400.00</td>\n",
       "      <td>1</td>\n",
       "    </tr>\n",
       "  </tbody>\n",
       "</table>\n",
       "</div>"
      ],
      "text/plain": [
       "     month  total_revenue  total_orders\n",
       "2  2023-03         655.25             3\n",
       "0  2023-01         430.75             2\n",
       "3  2023-04         400.00             1"
      ]
     },
     "metadata": {},
     "output_type": "display_data"
    }
   ],
   "source": [
    "# Step 5: Get top 3 months by revenue\n",
    "\n",
    "top_3_revenue = result_df.sort_values(by='total_revenue', ascending=False).head(3)\n",
    "\n",
    "print(\"🏆 Top 3 Months by Revenue:\")\n",
    "display(top_3_revenue)\n"
   ]
  },
  {
   "cell_type": "code",
   "execution_count": null,
   "id": "f4a16961-bfb8-4494-9e00-d93c0d28f587",
   "metadata": {},
   "outputs": [],
   "source": []
  }
 ],
 "metadata": {
  "kernelspec": {
   "display_name": "Python [conda env:mlenv]",
   "language": "python",
   "name": "conda-env-mlenv-py"
  },
  "language_info": {
   "codemirror_mode": {
    "name": "ipython",
    "version": 3
   },
   "file_extension": ".py",
   "mimetype": "text/x-python",
   "name": "python",
   "nbconvert_exporter": "python",
   "pygments_lexer": "ipython3",
   "version": "3.10.16"
  }
 },
 "nbformat": 4,
 "nbformat_minor": 5
}
